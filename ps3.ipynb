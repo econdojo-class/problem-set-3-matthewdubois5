{
 "cells": [
  {
   "cell_type": "markdown",
   "metadata": {},
   "source": [
    "## Problem Set 3: Neural Networks\n",
    "\n",
    "### Overview\n",
    "In this problem set, you'll explore the foundational concepts of neural networks, covering basic architecture, activation functions, forward propagation, regularization, and adaptive learning. You'll also complete coding exercises to implement neural network components and train a basic neural network. You will both complete this Python script (`ps3.ipynb`) and submit a LaTeX report (`ps3.tex` and `ps3.pdf`)."
   ]
  },
  {
   "cell_type": "markdown",
   "metadata": {},
   "source": [
    "## 1. Basic Architecture of a Neural Network"
   ]
  },
  {
   "cell_type": "markdown",
   "metadata": {},
   "source": [
    "A neural network is composed of layers of neurons: input layer, hidden layer(s), and an output layer. Each neuron receives inputs, processes them, and passes the result to the next layer.\n",
    "\n",
    "In this section, you'll implement a basic 3-layer neural network structure."
   ]
  },
  {
   "cell_type": "code",
   "execution_count": 8,
   "metadata": {},
   "outputs": [],
   "source": [
    "def initialize_parameters(input_size, hidden_size, output_size):\n",
    "    np.random.seed(0)\n",
    "    W1 = np.random.randn(hidden_size, input_size) * 0.01\n",
    "    b1 = np.zeros((hidden_size, 1))\n",
    "    W2 = np.random.randn(output_size, hidden_size) * 0.01\n",
    "    b2 = np.zeros((output_size, 1))\n",
    "    return W1, b1, W2, b2"
   ]
  },
  {
   "cell_type": "markdown",
   "metadata": {},
   "source": [
    "## 2. Activation Functions"
   ]
  },
  {
   "cell_type": "markdown",
   "metadata": {},
   "source": [
    "\n",
    "Activation functions introduce non-linearity into the network, allowing it to learn more complex patterns. Common functions include:\n",
    "\n",
    "- **Sigmoid**: S-shaped curve, useful for binary classifications.\n",
    "- **ReLU (Rectified Linear Unit)**: Outputs zero if input is negative, otherwise outputs the input.\n",
    "- **Leaky ReLU**: Similar to ReLU but with a small gradient for negative inputs.\n",
    "\n",
    "### Exercise:\n",
    "Write functions for each activation function and plot them over a range of inputs.\n"
   ]
  },
  {
   "cell_type": "code",
   "execution_count": 9,
   "metadata": {},
   "outputs": [
    {
     "data": {
      "image/png": "[encoded data removed]",
      "text/plain": [
       "<Figure size 640x480 with 1 Axes>"
      ]
     },
     "metadata": {},
     "output_type": "display_data"
    }
   ],
   "source": [
    "import numpy as np\n",
    "import matplotlib.pyplot as plt\n",
    "\n",
    "def sigmoid(x):\n",
    "    return 1 / (1 + np.exp(-x))\n",
    "def relu(x):\n",
    "    return np.maximum(0, x)\n",
    "\n",
    "def leaky_relu(x, alpha=0.01):\n",
    "    return np.where(x > 0, x, alpha * x)\n",
    "x = np.linspace(-10, 10, 100)\n",
    "plt.plot(x, sigmoid(x), label=\"Sigmoid\")\n",
    "plt.plot(x, relu(x), label=\"ReLU\")\n",
    "plt.plot(x, leaky_relu(x), label=\"Leaky ReLU\")\n",
    "plt.legend()\n",
    "plt.title(\"Activation Functions\")\n",
    "plt.show()\n",
    "\n",
    "\n",
    "\n"
   ]
  },
  {
   "cell_type": "markdown",
   "metadata": {},
   "source": [
    "## 3. Forward Propagation"
   ]
  },
  {
   "cell_type": "markdown",
   "metadata": {},
   "source": [
    "Forward propagation is the process of passing inputs through the network to generate an output.\n",
    "\n",
    "### Exercise:\n",
    "Implement forward propagation for a 3-layer neural network."
   ]
  },
  {
   "cell_type": "code",
   "execution_count": 10,
   "metadata": {},
   "outputs": [],
   "source": [
    "def forward_propogation(X, W1, b1, W2, b2):\n",
    "    Z1 = np.dot(W1, X) + b1\n",
    "    A1 = relu(Z1)\n",
    "    Z2 = np.dot(W2, A1) + b2\n",
    "    return Z2"
   ]
  },
  {
   "cell_type": "markdown",
   "metadata": {},
   "source": [
    "## 4. Overfitting and Regularization"
   ]
  },
  {
   "cell_type": "markdown",
   "metadata": {},
   "source": [
    "Overfitting occurs when a model learns the noise in the training data rather than the actual pattern. Regularization helps control this.\n",
    "\n",
    "Common techniques include:\n",
    "\n",
    "- **L2 Regularization**: Adds a penalty based on the sum of squared weights.\n",
    "- **Dropout**: Randomly ignores some neurons during training.\n",
    "\n",
    "### Exercise:\n",
    "Implement L2 regularization in the loss calculation."
   ]
  },
  {
   "cell_type": "code",
   "execution_count": 11,
   "metadata": {},
   "outputs": [],
   "source": [
    "def compute_loss_with_L2(Y, Y_hat, W1, W2, lambd=0.1):\n",
    "    m = Y.shape[1]\n",
    "    mse_loss = np.mean((Y - Y_hat) ** 2)\n",
    "    L2_penalty = (lambd / (2 * m)) * (np.sum(np.square(W1)) + np.sum(np.square(W2)))\n",
    "    return mse_loss + L2_penalty\n"
   ]
  },
  {
   "cell_type": "markdown",
   "metadata": {},
   "source": [
    "## 5. Training a Neural Network"
   ]
  },
  {
   "cell_type": "markdown",
   "metadata": {},
   "source": [
    "Training involves adjusting the weights and biases to minimize the loss. A popular method is gradient descent.\n",
    "\n",
    "### Exercise:\n",
    "Implement a simple gradient descent loop to train the neural network."
   ]
  },
  {
   "cell_type": "code",
   "execution_count": 12,
   "metadata": {},
   "outputs": [],
   "source": [
    "def backward_propagation(X, Y, W1, b1, W2, b2, lambd):\n",
    "    m = X.shape[1]\n",
    "    \n",
    "    # Forward propagation\n",
    "    Z1 = np.dot(W1, X) + b1\n",
    "    A1 = relu(Z1)\n",
    "    Z2 = np.dot(W2, A1) + b2\n",
    "    \n",
    "    # Loss derivatives (MSE + L2 Regularization)\n",
    "    dZ2 = Z2 - Y\n",
    "    dW2 = (1 / m) * np.dot(dZ2, A1.T) + (lambd / m) * W2\n",
    "    db2 = (1 / m) * np.sum(dZ2, axis=1, keepdims=True)\n",
    "    \n",
    "    dA1 = np.dot(W2.T, dZ2)\n",
    "    dZ1 = dA1 * (Z1 > 0)  # Derivative of ReLU\n",
    "    dW1 = (1 / m) * np.dot(dZ1, X.T) + (lambd / m) * W1\n",
    "    db1 = (1 / m) * np.sum(dZ1, axis=1, keepdims=True)\n",
    "    \n",
    "    # Return gradients\n",
    "    return dW1, db1, dW2, db2\n",
    "\n",
    "def gradient_descent(X, Y, W1, b1, W2, b2, learning_rate=0.01, epochs=1000, lambd=0.1):\n",
    "    # List to store loss values for plotting\n",
    "    loss_history = []\n",
    "    \n",
    "    # Gradient Descent Loop\n",
    "    for epoch in range(epochs):\n",
    "        # Forward propagation\n",
    "        Z1 = np.dot(W1, X) + b1\n",
    "        A1 = relu(Z1)\n",
    "        Z2 = np.dot(W2, A1) + b2\n",
    "        \n",
    "        # Compute loss with L2 regularization\n",
    "        loss = compute_loss_with_L2(Y, Z2, W1, W2, lambd)\n",
    "        loss_history.append(loss)\n",
    "        \n",
    "        # Backward propagation\n",
    "        dW1, db1, dW2, db2 = backward_propagation(X, Y, W1, b1, W2, b2, lambd)\n",
    "        \n",
    "        # Update parameters (weights and biases)\n",
    "        W1 -= learning_rate * dW1\n",
    "        b1 -= learning_rate * db1\n",
    "        W2 -= learning_rate * dW2\n",
    "        b2 -= learning_rate * db2\n",
    "        \n",
    "        # Print loss every 100 epochs\n",
    "        if epoch % 100 == 0:\n",
    "            print(f\"Epoch {epoch}/{epochs}, Loss: {loss}\")\n",
    "    \n",
    "    # Return final weights, biases, and loss history\n",
    "    return W1, b1, W2, b2, loss_history"
   ]
  },
  {
   "cell_type": "markdown",
   "metadata": {},
   "source": [
    "## 6. Adaptive Learning Rates\n"
   ]
  },
  {
   "cell_type": "markdown",
   "metadata": {},
   "source": [
    "Adaptive learning rate methods, like Adam, adjust the learning rate based on past gradients, improving training stability.\n",
    "\n",
    "### Exercise:\n",
    "Implement a simple version of the Adam optimizer for gradient descent."
   ]
  },
  {
   "cell_type": "code",
   "execution_count": 13,
   "metadata": {},
   "outputs": [],
   "source": [
    "def adam_optimizer(X, Y, W1, b1, W2, b2, learning_rate=0.001, beta1=0.9, beta2=0.999, epochs=1000, lambd=0.1, epsilon=1e-8):\n",
    "    # Initialize moment estimates\n",
    "    mW1, mb1, mW2, mb2 = np.zeros_like(W1), np.zeros_like(b1), np.zeros_like(W2), np.zeros_like(b2)\n",
    "    vW1, vb1, vW2, vb2 = np.zeros_like(W1), np.zeros_like(b1), np.zeros_like(W2), np.zeros_like(b2)\n",
    "    \n",
    "    # Time step\n",
    "    t = 0\n",
    "    \n",
    "    # List to store loss values for plotting\n",
    "    loss_history = []\n",
    "    \n",
    "    # Gradient Descent Loop\n",
    "    for epoch in range(epochs):\n",
    "        t += 1  # Increment time step\n",
    "        \n",
    "        # Forward propagation\n",
    "        Z1 = np.dot(W1, X) + b1\n",
    "        A1 = relu(Z1)\n",
    "        Z2 = np.dot(W2, A1) + b2\n",
    "        \n",
    "        # Compute loss with L2 regularization\n",
    "        loss = compute_loss_with_L2(Y, Z2, W1, W2, lambd)\n",
    "        loss_history.append(loss)\n",
    "        \n",
    "        # Backward propagation\n",
    "        dW1, db1, dW2, db2 = backward_propagation(X, Y, W1, b1, W2, b2, lambd)\n",
    "        \n",
    "        # Update moment estimates\n",
    "        mW1 = beta1 * mW1 + (1 - beta1) * dW1\n",
    "        mb1 = beta1 * mb1 + (1 - beta1) * db1\n",
    "        mW2 = beta1 * mW2 + (1 - beta1) * dW2\n",
    "        mb2 = beta1 * mb2 + (1 - beta1) * db2\n",
    "        \n",
    "        vW1 = beta2 * vW1 + (1 - beta2) * (dW1 ** 2)\n",
    "        vb1 = beta2 * vb1 + (1 - beta2) * (db1 ** 2)\n",
    "        vW2 = beta2 * vW2 + (1 - beta2) * (dW2 ** 2)\n",
    "        vb2 = beta2 * vb2 + (1 - beta2) * (db2 ** 2)\n",
    "        \n",
    "        # Bias correction\n",
    "        mW1_hat = mW1 / (1 - beta1 ** t)\n",
    "        mb1_hat = mb1 / (1 - beta1 ** t)\n",
    "        mW2_hat = mW2 / (1 - beta1 ** t)\n",
    "        mb2_hat = mb2 / (1 - beta1 ** t)\n",
    "        \n",
    "        vW1_hat = vW1 / (1 - beta2 ** t)\n",
    "        vb1_hat = vb1 / (1 - beta2 ** t)\n",
    "        vW2_hat = vW2 / (1 - beta2 ** t)\n",
    "        vb2_hat = vb2 / (1 - beta2 ** t)\n",
    "        \n",
    "        # Parameter update\n",
    "        W1 -= learning_rate * mW1_hat / (np.sqrt(vW1_hat) + epsilon)\n",
    "        b1 -= learning_rate * mb1_hat / (np.sqrt(vb1_hat) + epsilon)\n",
    "        W2 -= learning_rate * mW2_hat / (np.sqrt(vW2_hat) + epsilon)\n",
    "        b2 -= learning_rate * mb2_hat / (np.sqrt(vb2_hat) + epsilon)\n",
    "        \n",
    "        # Print loss every 100 epochs\n",
    "        if epoch % 100 == 0:\n",
    "            print(f\"Epoch {epoch}/{epochs}, Loss: {loss}\")\n",
    "    \n",
    "    # Return final weights, biases, and loss history\n",
    "    return W1, b1, W2, b2, loss_history\n"
   ]
  }
 ],
 "metadata": {
  "kernelspec": {
   "display_name": "Python 3",
   "language": "python",
   "name": "python3"
  },
  "language_info": {
   "codemirror_mode": {
    "name": "ipython",
    "version": 3
   },
   "file_extension": ".py",
   "mimetype": "text/x-python",
   "name": "python",
   "nbconvert_exporter": "python",
   "pygments_lexer": "ipython3",
   "version": "3.12.1"
  }
 },
 "nbformat": 4,
 "nbformat_minor": 2
}
